{
 "cells": [
  {
   "cell_type": "code",
   "execution_count": 1,
   "id": "463604a9-b13c-4d70-a48c-5b3b2cfc3e3a",
   "metadata": {},
   "outputs": [
    {
     "data": {
      "text/plain": [
       "[1, 4, 9, 16, 25, 36, 49, 64, 81, 100]"
      ]
     },
     "execution_count": 1,
     "metadata": {},
     "output_type": "execute_result"
    }
   ],
   "source": [
    "# 1:10 --> square\n",
    "s = [x**2 for x in range(1,11)]\n",
    "s"
   ]
  },
  {
   "cell_type": "code",
   "execution_count": 2,
   "id": "6d774028-b4da-43f2-82dc-813cc31efabd",
   "metadata": {},
   "outputs": [
    {
     "data": {
      "text/plain": [
       "[4, 16, 36, 64, 100]"
      ]
     },
     "execution_count": 2,
     "metadata": {},
     "output_type": "execute_result"
    }
   ],
   "source": [
    "# filter even \n",
    "s = [x**2 for x in range(1,11) if x%2==0]\n",
    "s"
   ]
  },
  {
   "cell_type": "code",
   "execution_count": 3,
   "id": "ebcc9629-9fc0-453e-b318-d29b147787f8",
   "metadata": {},
   "outputs": [
    {
     "data": {
      "text/plain": [
       "[(1, 1),\n",
       " (2, 4),\n",
       " (3, 9),\n",
       " (4, 16),\n",
       " (5, 25),\n",
       " (6, 36),\n",
       " (7, 49),\n",
       " (8, 64),\n",
       " (9, 81),\n",
       " (10, 100)]"
      ]
     },
     "execution_count": 3,
     "metadata": {},
     "output_type": "execute_result"
    }
   ],
   "source": [
    "# list of tuples [(x,x**2)]\n",
    "s = [(x,x**2) for x in range(1,11)]\n",
    "s"
   ]
  },
  {
   "cell_type": "code",
   "execution_count": 4,
   "id": "c44e75e2-b570-42d1-961f-c625ac0ef13d",
   "metadata": {},
   "outputs": [
    {
     "data": {
      "text/plain": [
       "[{1: 1},\n",
       " {2: 4},\n",
       " {3: 9},\n",
       " {4: 16},\n",
       " {5: 25},\n",
       " {6: 36},\n",
       " {7: 49},\n",
       " {8: 64},\n",
       " {9: 81},\n",
       " {10: 100}]"
      ]
     },
     "execution_count": 4,
     "metadata": {},
     "output_type": "execute_result"
    }
   ],
   "source": [
    "# list of dict \n",
    "s = [ {x:x**2} for x in range(1,11)]\n",
    "s"
   ]
  },
  {
   "cell_type": "code",
   "execution_count": 5,
   "id": "4ebbb600-9f89-449f-b721-083ad62339cf",
   "metadata": {},
   "outputs": [
    {
     "data": {
      "text/plain": [
       "{'a': 900, 'b': 1600, 'c': 2500, 'd': 3600}"
      ]
     },
     "execution_count": 5,
     "metadata": {},
     "output_type": "execute_result"
    }
   ],
   "source": [
    "# dict : values --> squared\n",
    "\n",
    "numbers = {'a':30 , 'b':40 , 'c': 50 , 'd':60}\n",
    "\n",
    "result = {k:v**2 for k,v in numbers.items()}\n",
    "result"
   ]
  },
  {
   "cell_type": "code",
   "execution_count": 6,
   "id": "ab7df612-990c-4323-8179-86d728148e6f",
   "metadata": {},
   "outputs": [
    {
     "data": {
      "text/plain": [
       "{'c': 50, 'd': 60}"
      ]
     },
     "execution_count": 6,
     "metadata": {},
     "output_type": "execute_result"
    }
   ],
   "source": [
    "# dict : values --> filter >= 50\n",
    "\n",
    "numbers = {'a':30 , 'b':40 , 'c': 50 , 'd':60}\n",
    "\n",
    "result = {k:v for k,v in numbers.items() if v >= 50}\n",
    "result"
   ]
  },
  {
   "cell_type": "code",
   "execution_count": 7,
   "id": "a0276369-7c25-4ce6-9f14-4bc409095fed",
   "metadata": {},
   "outputs": [
    {
     "data": {
      "text/plain": [
       "{'a': [30, 40, 50], 'b': [60, 70, 30, 80]}"
      ]
     },
     "execution_count": 7,
     "metadata": {},
     "output_type": "execute_result"
    }
   ],
   "source": [
    "# filter dict max(values) >= 50\n",
    "\n",
    "numbers = {'a':[30,40,50] , 'b':[60,70,30,80] , 'c': [10] , 'd':[10,20]}\n",
    "\n",
    "result = {k:v for k,v in numbers.items() if max(v) >= 50}\n",
    "result"
   ]
  },
  {
   "cell_type": "code",
   "execution_count": 8,
   "id": "b2893761-970e-489d-ac14-dd344f777b42",
   "metadata": {},
   "outputs": [
    {
     "data": {
      "text/plain": [
       "{'a': [50], 'b': [60, 70, 80], 'c': [], 'd': []}"
      ]
     },
     "execution_count": 8,
     "metadata": {},
     "output_type": "execute_result"
    }
   ],
   "source": [
    "\n",
    "numbers = {'a':[30,40,50] , 'b':[60,70,30,80] , 'c': [10] , 'd':[10,20]}\n",
    "\n",
    "result = {\n",
    "    k:[i for i in v if i >= 50] for k,v in numbers.items() \n",
    "}\n",
    "\n",
    "result "
   ]
  },
  {
   "cell_type": "code",
   "execution_count": null,
   "id": "69323090-7774-4b59-9cb0-b75020b668b7",
   "metadata": {},
   "outputs": [],
   "source": []
  },
  {
   "cell_type": "code",
   "execution_count": null,
   "id": "8694a6b9-faf4-4789-a8c7-d174d6fdae15",
   "metadata": {},
   "outputs": [],
   "source": []
  },
  {
   "cell_type": "code",
   "execution_count": 9,
   "id": "d18459b4-d9bd-457a-9158-047901154e20",
   "metadata": {},
   "outputs": [
    {
     "data": {
      "text/plain": [
       "{'a': [50], 'b': [60, 70, 80], 'c': [], 'd': []}"
      ]
     },
     "execution_count": 9,
     "metadata": {},
     "output_type": "execute_result"
    }
   ],
   "source": [
    "numbers = {'a':[30,40,50] , 'b':[60,70,30,80] , 'c': [10] , 'd':[10,20]}\n",
    "\n",
    "result = {}\n",
    "for k,v in numbers.items():\n",
    "    filtered_values = []\n",
    "    for x in v:\n",
    "        if x >= 50:\n",
    "            filtered_values.append(x)\n",
    "    result[k] = filtered_values\n",
    "\n",
    "result"
   ]
  },
  {
   "cell_type": "markdown",
   "id": "2370c5ec-7263-4e21-9a82-a0ba8bd74325",
   "metadata": {},
   "source": [
    "-----"
   ]
  },
  {
   "cell_type": "code",
   "execution_count": null,
   "id": "d769cba3-a33e-452c-82cb-5e8b4eb47936",
   "metadata": {},
   "outputs": [],
   "source": []
  },
  {
   "cell_type": "markdown",
   "id": "86721ee5-0ce5-4add-bbed-4b286a56e9bc",
   "metadata": {},
   "source": [
    "## Functional Programming"
   ]
  },
  {
   "cell_type": "code",
   "execution_count": 10,
   "id": "db8d77b0-2dcd-413d-bb28-78b58d1a06d9",
   "metadata": {},
   "outputs": [
    {
     "data": {
      "text/plain": [
       "[1, 4, 9, 16, 25, 36, 49, 64]"
      ]
     },
     "execution_count": 10,
     "metadata": {},
     "output_type": "execute_result"
    }
   ],
   "source": [
    "numbers = [1,2,3,4,5,6,7,8]  # squared\n",
    "\n",
    "def mysquare(n):\n",
    "    return n**2\n",
    "\n",
    "\n",
    "result = list(map(mysquare,numbers))\n",
    "result\n"
   ]
  },
  {
   "cell_type": "code",
   "execution_count": 11,
   "id": "381cc1c7-d82a-4aed-9d73-79647361f31c",
   "metadata": {},
   "outputs": [
    {
     "data": {
      "text/plain": [
       "[1, 4, 9, 16, 25, 36, 49, 64]"
      ]
     },
     "execution_count": 11,
     "metadata": {},
     "output_type": "execute_result"
    }
   ],
   "source": [
    "numbers = [1,2,3,4,5,6,7,8]  # squared\n",
    "\n",
    "result = list(map(lambda n:n**2 ,numbers))\n",
    "result\n"
   ]
  },
  {
   "cell_type": "code",
   "execution_count": 12,
   "id": "6e6974c8-958a-47b8-935c-14552f9b7ab4",
   "metadata": {},
   "outputs": [
    {
     "data": {
      "text/plain": [
       "[2, 4, 6, 8]"
      ]
     },
     "execution_count": 12,
     "metadata": {},
     "output_type": "execute_result"
    }
   ],
   "source": [
    "# filter \n",
    "numbers = [1,2,3,4,5,6,7,8]\n",
    "\n",
    "def myfilter(n):\n",
    "    return n%2 == 0\n",
    "\n",
    "\n",
    "even_numbers = list(filter(myfilter,numbers))\n",
    "even_numbers"
   ]
  },
  {
   "cell_type": "code",
   "execution_count": 13,
   "id": "e7cf0a49-92f2-4dbe-a91c-bb09a4dfa32b",
   "metadata": {},
   "outputs": [
    {
     "data": {
      "text/plain": [
       "[2, 4, 6, 8]"
      ]
     },
     "execution_count": 13,
     "metadata": {},
     "output_type": "execute_result"
    }
   ],
   "source": [
    "numbers = [1,2,3,4,5,6,7,8]\n",
    "\n",
    "even_numbers = list(filter(lambda n: n%2==0 ,numbers))\n",
    "even_numbers"
   ]
  },
  {
   "cell_type": "code",
   "execution_count": 14,
   "id": "bd0a1f60-4bcf-4619-83c4-02d9f9c9d3c0",
   "metadata": {},
   "outputs": [
    {
     "data": {
      "text/plain": [
       "[False, True, False, True, False, True, False, True]"
      ]
     },
     "execution_count": 14,
     "metadata": {},
     "output_type": "execute_result"
    }
   ],
   "source": [
    "# filter using map \n",
    "numbers = [1,2,3,4,5,6,7,8]\n",
    "\n",
    "even_numbers = list(map(lambda n: n%2==0 ,numbers))\n",
    "even_numbers"
   ]
  },
  {
   "cell_type": "code",
   "execution_count": 15,
   "id": "af61bfa4-0087-4040-a6a6-c8c32180185b",
   "metadata": {},
   "outputs": [
    {
     "data": {
      "text/plain": [
       "[None, 2, None, 4, None, 6, None, 8]"
      ]
     },
     "execution_count": 15,
     "metadata": {},
     "output_type": "execute_result"
    }
   ],
   "source": [
    "numbers = [1,2,3,4,5,6,7,8]\n",
    "\n",
    "def myfilter(n):\n",
    "    if n%2 == 0:\n",
    "        return n\n",
    "\n",
    "\n",
    "even_numbers = list(map(myfilter,numbers))\n",
    "even_numbers"
   ]
  },
  {
   "cell_type": "code",
   "execution_count": 16,
   "id": "09a0936c-4ad3-4a10-b3d9-25aa7ef75e0f",
   "metadata": {},
   "outputs": [
    {
     "data": {
      "text/plain": [
       "36"
      ]
     },
     "execution_count": 16,
     "metadata": {},
     "output_type": "execute_result"
    }
   ],
   "source": [
    "# sum all using reduce\n",
    "from functools import reduce \n",
    "\n",
    "numbers = [1,2,3,4,5,6,7,8]\n",
    "\n",
    "def mysum(x,y):\n",
    "    return x+y\n",
    "\n",
    "result = reduce(mysum,numbers)\n",
    "result"
   ]
  },
  {
   "cell_type": "code",
   "execution_count": 17,
   "id": "f90590ea-30ac-4071-918e-785913ca855a",
   "metadata": {},
   "outputs": [
    {
     "data": {
      "text/plain": [
       "36"
      ]
     },
     "execution_count": 17,
     "metadata": {},
     "output_type": "execute_result"
    }
   ],
   "source": [
    "numbers = [1,2,3,4,5,6,7,8]\n",
    "\n",
    "result = reduce(lambda x,y : x+y,numbers)\n",
    "result"
   ]
  },
  {
   "cell_type": "markdown",
   "id": "3381c4e1-01ab-4dcb-a158-a9fff5409154",
   "metadata": {},
   "source": [
    "---------"
   ]
  },
  {
   "cell_type": "code",
   "execution_count": 18,
   "id": "1b43fd67-dd2e-44fe-8d92-7817612cbad2",
   "metadata": {},
   "outputs": [
    {
     "data": {
      "text/plain": [
       "[1, 2, 3, 4, 5, 6]"
      ]
     },
     "execution_count": 18,
     "metadata": {},
     "output_type": "execute_result"
    }
   ],
   "source": [
    "# normal \n",
    "l = [[1,2],[3,4],[5,6]]\n",
    "\n",
    "result = []\n",
    "for x in l:\n",
    "    for z in x :\n",
    "        result.append(z)\n",
    "\n",
    "result"
   ]
  },
  {
   "cell_type": "code",
   "execution_count": 19,
   "id": "f72c10db-3533-4e68-8842-8aaaa22d4a84",
   "metadata": {},
   "outputs": [
    {
     "data": {
      "text/plain": [
       "[1, 2, 3, 4, 5, 6]"
      ]
     },
     "execution_count": 19,
     "metadata": {},
     "output_type": "execute_result"
    }
   ],
   "source": [
    "# list comp\n",
    "l = [[1,2],[3,4],[5,6]]\n",
    "\n",
    "result = [z for x in l for z in x]\n",
    "result"
   ]
  },
  {
   "cell_type": "code",
   "execution_count": 20,
   "id": "b1f0f5fd-f9e0-4ed8-802f-fd30820528ff",
   "metadata": {},
   "outputs": [
    {
     "data": {
      "text/plain": [
       "[{'my': 2},\n",
       " {'name': 4},\n",
       " {'is': 2},\n",
       " {'mahmoud': 7},\n",
       " {',': 1},\n",
       " {'i': 1},\n",
       " {'love': 4},\n",
       " {'Germany': 7}]"
      ]
     },
     "execution_count": 20,
     "metadata": {},
     "output_type": "execute_result"
    }
   ],
   "source": [
    "# sentence ---> list of dict [{word:word chars count}]\n",
    "f = 'my name is mahmoud , i love Germany'\n",
    "\n",
    "result = []\n",
    "for x in f.split() :  # f.split() --> ['my','name']\n",
    "    result.append({x:len(x)})\n",
    "\n",
    "result "
   ]
  },
  {
   "cell_type": "code",
   "execution_count": 21,
   "id": "f7076190-f87d-4fd5-8325-c820d0e71664",
   "metadata": {},
   "outputs": [
    {
     "data": {
      "text/plain": [
       "[{'my': 2},\n",
       " {'name': 4},\n",
       " {'is': 2},\n",
       " {'mahmoud': 7},\n",
       " {',': 1},\n",
       " {'i': 1},\n",
       " {'love': 4},\n",
       " {'Germany': 7}]"
      ]
     },
     "execution_count": 21,
     "metadata": {},
     "output_type": "execute_result"
    }
   ],
   "source": [
    "result = [{x:len(x)} for x in f.split()]\n",
    "result"
   ]
  },
  {
   "cell_type": "code",
   "execution_count": 22,
   "id": "364ac536-20bf-4057-b117-8b1800d4b1f7",
   "metadata": {},
   "outputs": [
    {
     "data": {
      "text/plain": [
       "{'my': 2,\n",
       " 'name': 4,\n",
       " 'is': 2,\n",
       " 'mahmoud': 7,\n",
       " ',': 1,\n",
       " 'i': 1,\n",
       " 'love': 4,\n",
       " 'Germany': 7}"
      ]
     },
     "execution_count": 22,
     "metadata": {},
     "output_type": "execute_result"
    }
   ],
   "source": [
    "result = {x:len(x) for x in f.split()}\n",
    "result\n",
    " "
   ]
  },
  {
   "cell_type": "code",
   "execution_count": 23,
   "id": "e3226692-b260-44c6-b9fb-973f413a2583",
   "metadata": {},
   "outputs": [
    {
     "data": {
      "text/plain": [
       "{'my': 1, 'his': 1, 'is': 2, 'Hassan': 1, 'mahmoud': 1, 'name': 2}"
      ]
     },
     "execution_count": 23,
     "metadata": {},
     "output_type": "execute_result"
    }
   ],
   "source": [
    "# normal --> {word:count in sentence}\n",
    "sentence = \"my name is mahmoud , his name is Hassan\"\n",
    "\n",
    "words = sentence.replace(',','').split() # list\n",
    "#words.remove(',') \n",
    "words_no_duplicate = set(words)\n",
    "\n",
    "result = {}\n",
    "\n",
    "for word in words_no_duplicate:\n",
    "    result[word]  =  words.count(word)\n",
    "\n",
    "result"
   ]
  },
  {
   "cell_type": "code",
   "execution_count": 24,
   "id": "24bf3263-f948-4aea-8cfb-acca36431f16",
   "metadata": {},
   "outputs": [
    {
     "data": {
      "text/plain": [
       "{'my': 1, 'his': 1, 'is': 2, 'Hassan': 1, 'mahmoud': 1, 'name': 2}"
      ]
     },
     "execution_count": 24,
     "metadata": {},
     "output_type": "execute_result"
    }
   ],
   "source": [
    "# dict compre\n",
    "sentence = \"my name is mahmoud , his name is Hassan\"\n",
    "\n",
    "result = {\n",
    "    word:sentence.replace(',','').split().count(word) for word in set(sentence.replace(',','').split())\n",
    "}\n",
    "\n",
    "result"
   ]
  },
  {
   "cell_type": "code",
   "execution_count": 25,
   "id": "f15efc49-9d14-4ece-98dd-2e6923abb6ca",
   "metadata": {},
   "outputs": [
    {
     "data": {
      "text/plain": [
       "{'apple': 1200, 'samsungs22': 1100, 'macbookpro': 3200}"
      ]
     },
     "execution_count": 25,
     "metadata": {},
     "output_type": "execute_result"
    }
   ],
   "source": [
    "# list of tuples ---> convert to dict \n",
    "d = [('apple',1200) , ('samsungs22',1100),('macbookpro',3200)]\n",
    "\n",
    "result = {}\n",
    "for x in d:\n",
    "    k,v = x[0],x[1]\n",
    "    result[k] = v\n",
    "\n",
    "result"
   ]
  },
  {
   "cell_type": "code",
   "execution_count": 26,
   "id": "a8831fb5-c708-462d-adaf-f592bb2c5cd7",
   "metadata": {},
   "outputs": [
    {
     "data": {
      "text/plain": [
       "{'mahmoud': 'B', 'ahmed': 'C', 'ali': 'A'}"
      ]
     },
     "execution_count": 26,
     "metadata": {},
     "output_type": "execute_result"
    }
   ],
   "source": [
    "# dict students name: A >= 90 , B >= 80  C < 80\n",
    "\n",
    "students = {'mahmoud':80 , 'ahmed':60 , 'ali':92}\n",
    "\n",
    "m = {}\n",
    "\n",
    "for k,v in students.items():\n",
    "    if v  >= 90:\n",
    "        result = 'A'\n",
    "\n",
    "    elif v >= 80:\n",
    "        result = 'B'\n",
    "\n",
    "    elif v < 80:\n",
    "        result = 'C'\n",
    "\n",
    "    m[k] = result\n",
    "\n",
    "m"
   ]
  },
  {
   "cell_type": "code",
   "execution_count": 27,
   "id": "c4fe0a96-846f-4276-a922-648362e46533",
   "metadata": {},
   "outputs": [
    {
     "data": {
      "text/plain": [
       "{'mahmoud': 'B', 'ahmed': 'C', 'ali': 'A'}"
      ]
     },
     "execution_count": 27,
     "metadata": {},
     "output_type": "execute_result"
    }
   ],
   "source": [
    "m = {k:'A' if v >= 90 else 'B' if v >= 80 else 'C'  for k,v in students.items()}\n",
    "m"
   ]
  },
  {
   "cell_type": "code",
   "execution_count": 28,
   "id": "d57e5122-5249-41f2-8b8c-b4d0fe026ebd",
   "metadata": {},
   "outputs": [
    {
     "data": {
      "text/plain": [
       "{'py': 2, 'txt': 1, 'mp4': 1}"
      ]
     },
     "execution_count": 28,
     "metadata": {},
     "output_type": "execute_result"
    }
   ],
   "source": [
    "# dict extension : count\n",
    "files = ['file1.py','file2.txt','file3.py','file4.mp4']\n",
    "\n",
    "result = {}\n",
    "\n",
    "for x in files:\n",
    "    name , extension = x.split('.')\n",
    "\n",
    "    if extension in result :\n",
    "        result[extension] += 1\n",
    "\n",
    "    else:\n",
    "        result[extension] = 1\n",
    "\n",
    "result"
   ]
  },
  {
   "cell_type": "code",
   "execution_count": 29,
   "id": "10b5e0f7-9aef-4720-aa88-b16e8498ea0d",
   "metadata": {},
   "outputs": [],
   "source": [
    "#result = {\n",
    "#   x.split('.')[1]:1 if  for x in files\n",
    "#}\n",
    "\n",
    "#result"
   ]
  },
  {
   "cell_type": "code",
   "execution_count": null,
   "id": "1acd078a-1eb5-4f55-90b2-477728566a2c",
   "metadata": {},
   "outputs": [],
   "source": []
  }
 ],
 "metadata": {
  "kernelspec": {
   "display_name": "Python 3 (ipykernel)",
   "language": "python",
   "name": "python3"
  },
  "language_info": {
   "codemirror_mode": {
    "name": "ipython",
    "version": 3
   },
   "file_extension": ".py",
   "mimetype": "text/x-python",
   "name": "python",
   "nbconvert_exporter": "python",
   "pygments_lexer": "ipython3",
   "version": "3.12.4"
  }
 },
 "nbformat": 4,
 "nbformat_minor": 5
}
